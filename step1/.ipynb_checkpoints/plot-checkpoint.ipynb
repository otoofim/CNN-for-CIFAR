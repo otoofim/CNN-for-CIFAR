{
 "cells": [
  {
   "cell_type": "code",
   "execution_count": 1,
   "metadata": {
    "collapsed": true
   },
   "outputs": [],
   "source": [
    "import numpy\n",
    "import random\n",
    "import numpy as np\n",
    "import matplotlib.pyplot as plt\n",
    "from scipy import stats\n",
    "import matplotlib.mlab as mlab\n",
    "#import seaborn as sns\n",
    "%matplotlib inline"
   ]
  },
  {
   "cell_type": "code",
   "execution_count": 14,
   "metadata": {
    "collapsed": false
   },
   "outputs": [
    {
     "name": "stdout",
     "output_type": "stream",
     "text": [
      "(['err(valid)=1.53', 'acc(valid)=0.47'], 5)\n",
      "(['err(valid)=1.45', 'acc(valid)=0.50'], 10)\n",
      "(['err(valid)=1.39', 'acc(valid)=0.52'], 15)\n",
      "(['err(valid)=1.35', 'acc(valid)=0.53'], 20)\n",
      "(['err(valid)=1.33', 'acc(valid)=0.55'], 25)\n",
      "(['err(valid)=1.29', 'acc(valid)=0.55'], 30)\n",
      "(['err(valid)=1.27', 'acc(valid)=0.57'], 35)\n",
      "(['err(valid)=1.24', 'acc(valid)=0.57'], 40)\n",
      "(['err(valid)=1.23', 'acc(valid)=0.58'], 45)\n",
      "(['err(valid)=1.22', 'acc(valid)=0.58'], 50)\n",
      "(['err(valid)=1.22', 'acc(valid)=0.58'], 55)\n",
      "(['err(valid)=1.20', 'acc(valid)=0.59'], 60)\n"
     ]
    }
   ],
   "source": [
    "hu16ta={}\n",
    "hu16te={}\n",
    "hu16va={}\n",
    "hu16ve={}\n",
    "counter=0\n",
    "with open(\"sep1_1_1_16.txt\", \"r\") as myfile:\n",
    "    for line in myfile:\n",
    "        line=line.strip()\n",
    "        tokens=line.split()\n",
    "        if len(tokens)==2:\n",
    "            hu16va[counter]=float(tokens[1].split(\"=\")[1])\n",
    "            hu16ve[counter]=float(tokens[0].split(\"=\")[1])\n",
    "        else:\n",
    "            hu16ta[int(tokens[3].replace(\":\",\"\"))]=float(tokens[5].split(\"=\")[1])\n",
    "            hu16te[int(tokens[3].replace(\":\",\"\"))]=float(tokens[4].split(\"=\")[1])\n",
    "            counter+=1\n",
    "        "
   ]
  },
  {
   "cell_type": "code",
   "execution_count": null,
   "metadata": {
    "collapsed": true
   },
   "outputs": [],
   "source": [
    "hu32ta={}\n",
    "hu32te={}\n",
    "hu32va={}\n",
    "hu32ve={}\n",
    "counter=0\n",
    "with open(\"sep1_1_1_32.txt\", \"r\") as myfile:\n",
    "    for line in myfile:\n",
    "        line=line.strip()\n",
    "        tokens=line.split()\n",
    "        if len(tokens)==2:\n",
    "            hu32va[counter]=float(tokens[1].split(\"=\")[1])\n",
    "            hu32ve[counter]=float(tokens[0].split(\"=\")[1])\n",
    "        else:\n",
    "            hu32ta[int(tokens[3].replace(\":\",\"\"))]=float(tokens[5].split(\"=\")[1])\n",
    "            hu32te[int(tokens[3].replace(\":\",\"\"))]=float(tokens[4].split(\"=\")[1])\n",
    "            counter+=1\n",
    "        "
   ]
  },
  {
   "cell_type": "code",
   "execution_count": null,
   "metadata": {
    "collapsed": true
   },
   "outputs": [],
   "source": [
    "hu72ta={}\n",
    "hu72te={}\n",
    "hu72va={}\n",
    "hu72ve={}\n",
    "counter=0\n",
    "with open(\"sep1_1_1_32.txt\", \"r\") as myfile:\n",
    "    for line in myfile:\n",
    "        line=line.strip()\n",
    "        tokens=line.split()\n",
    "        if len(tokens)==2:\n",
    "            hu72va[counter]=float(tokens[1].split(\"=\")[1])\n",
    "            hu72ve[counter]=float(tokens[0].split(\"=\")[1])\n",
    "        else:\n",
    "            hu72ta[int(tokens[3].replace(\":\",\"\"))]=float(tokens[5].split(\"=\")[1])\n",
    "            hu72te[int(tokens[3].replace(\":\",\"\"))]=float(tokens[4].split(\"=\")[1])\n",
    "            counter+=1\n",
    "        "
   ]
  },
  {
   "cell_type": "code",
   "execution_count": null,
   "metadata": {
    "collapsed": true
   },
   "outputs": [],
   "source": [
    "hu142ta={}\n",
    "hu142{}\n",
    "hu142{}\n",
    "hu142{}\n",
    "counter=0\n",
    "with open(\"sep1_1_1_32.txt\", \"r\") as myfile:\n",
    "    for line in myfile:\n",
    "        line=line.strip()\n",
    "        tokens=line.split()\n",
    "        if len(tokens)==2:\n",
    "            hu72va[counter]=float(tokens[1].split(\"=\")[1])\n",
    "            hu72ve[counter]=float(tokens[0].split(\"=\")[1])\n",
    "        else:\n",
    "            hu72ta[int(tokens[3].replace(\":\",\"\"))]=float(tokens[5].split(\"=\")[1])\n",
    "            hu72te[int(tokens[3].replace(\":\",\"\"))]=float(tokens[4].split(\"=\")[1])\n",
    "            counter+=1\n",
    "        "
   ]
  }
 ],
 "metadata": {
  "anaconda-cloud": {},
  "kernelspec": {
   "display_name": "Python [conda env:mlp]",
   "language": "python",
   "name": "conda-env-mlp-py"
  },
  "language_info": {
   "codemirror_mode": {
    "name": "ipython",
    "version": 2
   },
   "file_extension": ".py",
   "mimetype": "text/x-python",
   "name": "python",
   "nbconvert_exporter": "python",
   "pygments_lexer": "ipython2",
   "version": "2.7.12"
  }
 },
 "nbformat": 4,
 "nbformat_minor": 1
}

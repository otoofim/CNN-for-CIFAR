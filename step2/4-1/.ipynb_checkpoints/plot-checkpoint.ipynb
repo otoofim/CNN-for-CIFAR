{
 "cells": [
  {
   "cell_type": "code",
   "execution_count": 1,
   "metadata": {
    "collapsed": true
   },
   "outputs": [],
   "source": [
    "import numpy\n",
    "import random\n",
    "import numpy as np\n",
    "import matplotlib.pyplot as plt\n",
    "from scipy import stats\n",
    "import matplotlib.mlab as mlab\n",
    "#import seaborn as sns\n",
    "%matplotlib inline"
   ]
  },
  {
   "cell_type": "code",
   "execution_count": 2,
   "metadata": {
    "collapsed": false
   },
   "outputs": [
    {
     "ename": "IOError",
     "evalue": "[Errno 2] No such file or directory: '4-1.txt'",
     "output_type": "error",
     "traceback": [
      "\u001b[0;31m---------------------------------------------------------------------------\u001b[0m",
      "\u001b[0;31mIOError\u001b[0m                                   Traceback (most recent call last)",
      "\u001b[0;32m<ipython-input-2-240d33c81a24>\u001b[0m in \u001b[0;36m<module>\u001b[0;34m()\u001b[0m\n\u001b[1;32m      4\u001b[0m \u001b[0mhu16ve\u001b[0m\u001b[0;34m=\u001b[0m\u001b[0;34m{\u001b[0m\u001b[0;34m}\u001b[0m\u001b[0;34m\u001b[0m\u001b[0m\n\u001b[1;32m      5\u001b[0m \u001b[0mcounter\u001b[0m\u001b[0;34m=\u001b[0m\u001b[0;36m0\u001b[0m\u001b[0;34m\u001b[0m\u001b[0m\n\u001b[0;32m----> 6\u001b[0;31m \u001b[0;32mwith\u001b[0m \u001b[0mopen\u001b[0m\u001b[0;34m(\u001b[0m\u001b[0;34m\"4-1.txt\"\u001b[0m\u001b[0;34m,\u001b[0m \u001b[0;34m\"r\"\u001b[0m\u001b[0;34m)\u001b[0m \u001b[0;32mas\u001b[0m \u001b[0mmyfile\u001b[0m\u001b[0;34m:\u001b[0m\u001b[0;34m\u001b[0m\u001b[0m\n\u001b[0m\u001b[1;32m      7\u001b[0m     \u001b[0;32mfor\u001b[0m \u001b[0mline\u001b[0m \u001b[0;32min\u001b[0m \u001b[0mmyfile\u001b[0m\u001b[0;34m:\u001b[0m\u001b[0;34m\u001b[0m\u001b[0m\n\u001b[1;32m      8\u001b[0m         \u001b[0mline\u001b[0m\u001b[0;34m=\u001b[0m\u001b[0mline\u001b[0m\u001b[0;34m.\u001b[0m\u001b[0mstrip\u001b[0m\u001b[0;34m(\u001b[0m\u001b[0;34m)\u001b[0m\u001b[0;34m\u001b[0m\u001b[0m\n",
      "\u001b[0;31mIOError\u001b[0m: [Errno 2] No such file or directory: '4-1.txt'"
     ]
    }
   ],
   "source": [
    "hu16ta={}\n",
    "hu16te={}\n",
    "hu16va={}\n",
    "hu16ve={}\n",
    "counter=0\n",
    "with open(\"4-1.txt\", \"r\") as myfile:\n",
    "    for line in myfile:\n",
    "        line=line.strip()\n",
    "        tokens=line.split()\n",
    "        if len(tokens)==2:\n",
    "            hu16va[counter]=float(tokens[1].split(\"=\")[1])\n",
    "            hu16ve[counter]=float(tokens[0].split(\"=\")[1])\n",
    "        else:\n",
    "            hu16ta[int(tokens[3].replace(\":\",\"\"))]=float(tokens[5].split(\"=\")[1])\n",
    "            hu16te[int(tokens[3].replace(\":\",\"\"))]=float(tokens[4].split(\"=\")[1])\n",
    "            counter+=1\n",
    "        "
   ]
  },
  {
   "cell_type": "code",
   "execution_count": null,
   "metadata": {
    "collapsed": false
   },
   "outputs": [],
   "source": [
    "fig_1 = plt.figure(figsize=(8, 4))\n",
    "ax_1 = fig_1.add_subplot(111)\n",
    "x=[]\n",
    "y=[]\n",
    "for i in sorted(hu16va.keys()):\n",
    "    x.append(i)   \n",
    "for i in x:\n",
    "    y.append(hu16va[i])\n",
    "ax_1.plot(x, y,label=\"Validation\")\n",
    "\n",
    "x=[]\n",
    "y=[]\n",
    "for i in sorted(hu16ta.keys()):\n",
    "    x.append(i)   \n",
    "for i in x:\n",
    "    y.append(hu16ta[i])\n",
    "ax_1.plot(x, y,label=\"Training\")\n",
    "\n",
    "\n",
    "\n",
    "#ax_1.plot(temp.keys(), temp.values(), 'r',label=x2_label)\n",
    "ax_1.legend(loc=0)\n",
    "ax_1.set_xlabel('Epoch number')\n",
    "ax_1.set_ylabel(\"Accuracy\")\n",
    "plt.title(\"Validation Accuracy\")\n",
    "fig_1.savefig(\"Validation Accuracy\", dpi=200) "
   ]
  },
  {
   "cell_type": "code",
   "execution_count": 8,
   "metadata": {
    "collapsed": false
   },
   "outputs": [
    {
     "data": {
      "image/png": "[encoded data removed]",
      "text/plain": [
       "<matplotlib.figure.Figure at 0x7fd25620c950>"
      ]
     },
     "metadata": {},
     "output_type": "display_data"
    }
   ],
   "source": [
    "fig_1 = plt.figure(figsize=(8, 4))\n",
    "ax_1 = fig_1.add_subplot(111)\n",
    "\n",
    "x=[]\n",
    "y=[]\n",
    "for i in sorted(hu16ve.keys()):\n",
    "    x.append(i)   \n",
    "for i in x:\n",
    "    y.append(hu16ve[i])\n",
    "ax_1.plot(x, y,label=\"Validation\")\n",
    "\n",
    "x=[]\n",
    "y=[]\n",
    "for i in sorted(hu16te.keys()):\n",
    "    x.append(i)   \n",
    "for i in x:\n",
    "    y.append(hu16te[i])\n",
    "ax_1.plot(x, y,label=\"Training\")\n",
    "\n",
    "\n",
    "#ax_1.plot(temp.keys(), temp.values(), 'r',label=x2_label)\n",
    "ax_1.legend(loc=0)\n",
    "ax_1.set_xlabel('Epoch number')\n",
    "ax_1.set_ylabel(\"Error\")\n",
    "plt.title(\"Validation Error\")\n",
    "fig_1.savefig(\"Validation Error\", dpi=200) "
   ]
  },
  {
   "cell_type": "code",
   "execution_count": null,
   "metadata": {
    "collapsed": true
   },
   "outputs": [],
   "source": []
  }
 ],
 "metadata": {
  "anaconda-cloud": {},
  "kernelspec": {
   "display_name": "Python [conda env:mlp]",
   "language": "python",
   "name": "conda-env-mlp-py"
  },
  "language_info": {
   "codemirror_mode": {
    "name": "ipython",
    "version": 2
   },
   "file_extension": ".py",
   "mimetype": "text/x-python",
   "name": "python",
   "nbconvert_exporter": "python",
   "pygments_lexer": "ipython2",
   "version": "2.7.12"
  }
 },
 "nbformat": 4,
 "nbformat_minor": 1
}
